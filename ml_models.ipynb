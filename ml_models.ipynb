{
 "cells": [
  {
   "cell_type": "markdown",
   "metadata": {},
   "source": [
    "## Modelos de Machine Learning\n",
    "Instalamos las dependencias necesarias: numpy, pandas, scikit-learn"
   ]
  },
  {
   "cell_type": "code",
   "execution_count": 2,
   "metadata": {},
   "outputs": [
    {
     "name": "stdout",
     "output_type": "stream",
     "text": [
      "Requirement already satisfied: numpy in /Library/Frameworks/Python.framework/Versions/3.12/lib/python3.12/site-packages (2.0.0)\n",
      "\n",
      "\u001b[1m[\u001b[0m\u001b[34;49mnotice\u001b[0m\u001b[1;39;49m]\u001b[0m\u001b[39;49m A new release of pip is available: \u001b[0m\u001b[31;49m23.3.1\u001b[0m\u001b[39;49m -> \u001b[0m\u001b[32;49m24.1.2\u001b[0m\n",
      "\u001b[1m[\u001b[0m\u001b[34;49mnotice\u001b[0m\u001b[1;39;49m]\u001b[0m\u001b[39;49m To update, run: \u001b[0m\u001b[32;49mpip install --upgrade pip\u001b[0m\n",
      "Note: you may need to restart the kernel to use updated packages.\n",
      "Requirement already satisfied: pandas in /Library/Frameworks/Python.framework/Versions/3.12/lib/python3.12/site-packages (2.2.2)\n",
      "Requirement already satisfied: numpy>=1.26.0 in /Library/Frameworks/Python.framework/Versions/3.12/lib/python3.12/site-packages (from pandas) (2.0.0)\n",
      "Requirement already satisfied: python-dateutil>=2.8.2 in /Users/andreyparrilla/Library/Python/3.12/lib/python/site-packages (from pandas) (2.9.0.post0)\n",
      "Requirement already satisfied: pytz>=2020.1 in /Library/Frameworks/Python.framework/Versions/3.12/lib/python3.12/site-packages (from pandas) (2024.1)\n",
      "Requirement already satisfied: tzdata>=2022.7 in /Library/Frameworks/Python.framework/Versions/3.12/lib/python3.12/site-packages (from pandas) (2024.1)\n",
      "Requirement already satisfied: six>=1.5 in /Users/andreyparrilla/Library/Python/3.12/lib/python/site-packages (from python-dateutil>=2.8.2->pandas) (1.16.0)\n",
      "\n",
      "\u001b[1m[\u001b[0m\u001b[34;49mnotice\u001b[0m\u001b[1;39;49m]\u001b[0m\u001b[39;49m A new release of pip is available: \u001b[0m\u001b[31;49m23.3.1\u001b[0m\u001b[39;49m -> \u001b[0m\u001b[32;49m24.1.2\u001b[0m\n",
      "\u001b[1m[\u001b[0m\u001b[34;49mnotice\u001b[0m\u001b[1;39;49m]\u001b[0m\u001b[39;49m To update, run: \u001b[0m\u001b[32;49mpip install --upgrade pip\u001b[0m\n",
      "Note: you may need to restart the kernel to use updated packages.\n",
      "Requirement already satisfied: scikit-learn in /Library/Frameworks/Python.framework/Versions/3.12/lib/python3.12/site-packages (1.5.1)\n",
      "Requirement already satisfied: numpy>=1.19.5 in /Library/Frameworks/Python.framework/Versions/3.12/lib/python3.12/site-packages (from scikit-learn) (2.0.0)\n",
      "Requirement already satisfied: scipy>=1.6.0 in /Library/Frameworks/Python.framework/Versions/3.12/lib/python3.12/site-packages (from scikit-learn) (1.14.0)\n",
      "Requirement already satisfied: joblib>=1.2.0 in /Library/Frameworks/Python.framework/Versions/3.12/lib/python3.12/site-packages (from scikit-learn) (1.4.2)\n",
      "Requirement already satisfied: threadpoolctl>=3.1.0 in /Library/Frameworks/Python.framework/Versions/3.12/lib/python3.12/site-packages (from scikit-learn) (3.5.0)\n",
      "\n",
      "\u001b[1m[\u001b[0m\u001b[34;49mnotice\u001b[0m\u001b[1;39;49m]\u001b[0m\u001b[39;49m A new release of pip is available: \u001b[0m\u001b[31;49m23.3.1\u001b[0m\u001b[39;49m -> \u001b[0m\u001b[32;49m24.1.2\u001b[0m\n",
      "\u001b[1m[\u001b[0m\u001b[34;49mnotice\u001b[0m\u001b[1;39;49m]\u001b[0m\u001b[39;49m To update, run: \u001b[0m\u001b[32;49mpip install --upgrade pip\u001b[0m\n",
      "Note: you may need to restart the kernel to use updated packages.\n"
     ]
    }
   ],
   "source": [
    "%pip install numpy\n",
    "%pip install pandas\n",
    "%pip install scikit-learn"
   ]
  },
  {
   "cell_type": "markdown",
   "metadata": {},
   "source": [
    "Importamos las librerias que vamos a usar"
   ]
  },
  {
   "cell_type": "code",
   "execution_count": 4,
   "metadata": {},
   "outputs": [
    {
     "name": "stdout",
     "output_type": "stream",
     "text": [
      "Numpy version: 2.0.0\n",
      "Pandas version: 2.2.2\n"
     ]
    }
   ],
   "source": [
    "import numpy as np\n",
    "import pandas as pd\n",
    "from sklearn.model_selection import train_test_split, cross_val_score\n",
    "from sklearn.linear_model import LinearRegression, Ridge, Lasso\n",
    "from sklearn.svm import SVR\n",
    "from sklearn.tree import DecisionTreeRegressor\n",
    "from sklearn.ensemble import RandomForestRegressor\n",
    "from sklearn.neighbors import KNeighborsRegressor\n"
   ]
  },
  {
   "cell_type": "code",
   "execution_count": null,
   "metadata": {},
   "outputs": [],
   "source": []
  },
  {
   "cell_type": "code",
   "execution_count": 17,
   "metadata": {},
   "outputs": [
    {
     "name": "stdout",
     "output_type": "stream",
     "text": [
      "      SA   SBR  O (%)\n",
      "0   2.33  1.10  42.90\n",
      "1   2.33  1.09  43.41\n",
      "2   2.33  1.11  42.60\n",
      "3   2.33  1.14  35.26\n",
      "4   2.33  1.03  34.73\n",
      "5   2.33  1.16  41.88\n",
      "6   2.33  1.22  39.46\n",
      "7   2.33  1.15  42.30\n",
      "8   2.33  1.23  39.00\n",
      "9   2.33  1.22  38.99\n",
      "10  2.33  2.11  42.90\n",
      "11  2.33  2.10  43.41\n",
      "12  2.33  2.14  42.60\n",
      "13  2.33  2.18  35.26\n",
      "14  2.33  1.98  34.73\n",
      "15  2.33  2.22  41.88\n",
      "16  2.33  2.34  39.46\n",
      "17  2.33  2.21  42.30\n",
      "18  2.33  2.37  39.00\n",
      "19  2.33  2.34  38.99\n",
      "20  2.33  1.22  38.99\n",
      "21  2.33  1.22  38.99\n",
      "22  0.11  0.06  38.99\n",
      "23  0.33  0.17  38.99\n",
      "24  1.00  0.52  38.99\n",
      "25  2.33  2.34  38.99\n",
      "26  2.33  2.34  38.99\n",
      "27  0.11  0.11  38.99\n",
      "28  0.33  0.33  38.99\n",
      "29  1.00  1.00  38.99\n"
     ]
    }
   ],
   "source": [
    "file_path = 'data.csv'\n",
    "data = pd.read_csv(file_path)\n",
    "\n",
    "y = data[[\"SA\", \"SBR\", \"O (%)\"]]\n",
    "\n",
    "print(y)"
   ]
  },
  {
   "cell_type": "code",
   "execution_count": 33,
   "metadata": {},
   "outputs": [
    {
     "name": "stdout",
     "output_type": "stream",
     "text": [
      "Test score:  0.8343017494622117\n",
      "27    27.8254\n",
      "15    31.1787\n",
      "23    29.7194\n",
      "17    32.2669\n",
      "8     36.0748\n",
      "9     35.5075\n",
      "Name: volH2 (%), dtype: float64\n",
      "[29.35042049 32.77084566 30.65565443 32.69602229 34.42213567 35.47378417]\n"
     ]
    }
   ],
   "source": [
    "X = data[['SA', 'SBR', 'T (K)', 'SR', 'C (%)', 'N (%)', 'H (%)', 'O (%)']]\n",
    "y = data['volH2 (%)']\n",
    "\n",
    "# Split the data into training and testing sets\n",
    "X_train, X_test, y_train, y_test = train_test_split(X, y, test_size=0.2, random_state=42)\n",
    "\n",
    "cross_val_score(LinearRegression(), X_train, y_train, cv=5)\n",
    "\n",
    "best_model = LinearRegression()\n",
    "\n",
    "best_model.fit(X_train, y_train)\n",
    "test_score = best_model.score(X_test, y_test)\n",
    "\n",
    "print(\"Test score: \", test_score)\n",
    "\n",
    "# Predict the test data\n",
    "y_pred = best_model.predict(X_test)\n",
    "print(y_test)\n",
    "print(y_pred)"
   ]
  },
  {
   "cell_type": "code",
   "execution_count": 47,
   "metadata": {},
   "outputs": [
    {
     "name": "stdout",
     "output_type": "stream",
     "text": [
      "Test score:  0.8343017494622117\n",
      "Cross validation scores: 5.835\n",
      "27    27.8254\n",
      "15    31.1787\n",
      "23    29.7194\n",
      "17    32.2669\n",
      "8     36.0748\n",
      "9     35.5075\n",
      "Name: volH2 (%), dtype: float64\n",
      "[29.35042049 32.77084566 30.65565443 32.69602229 34.42213567 35.47378417]\n"
     ]
    }
   ],
   "source": [
    "X = data[['SA', 'SBR', 'T (K)', 'SR', 'C (%)', 'N (%)', 'H (%)', 'O (%)']]\n",
    "y = data['volH2 (%)']\n",
    "\n",
    "# Split the data into training and testing sets\n",
    "X_train, X_test, y_train, y_test = train_test_split(X, y, test_size=0.2, random_state=42)\n",
    "\n",
    "cross_val_score(LinearRegression(), X_train, y_train, cv=5)\n",
    "\n",
    "best_model = LinearRegression()\n",
    "\n",
    "best_model.fit(X_train, y_train)\n",
    "test_score = best_model.score(X_test, y_test)\n",
    "scores = cross_val_score(best_model, X_train, y_train, cv=5, scoring='neg_mean_squared_error')\n",
    "\n",
    "\n",
    "print(\"Test score: \", test_score)\n",
    "print(f\"Cross validation scores: {-np.mean(scores):.3f}\",)\n",
    "\n",
    "# Predict the test data\n",
    "y_pred = best_model.predict(X_test)\n",
    "print(y_test)\n",
    "print(y_pred)"
   ]
  },
  {
   "cell_type": "code",
   "execution_count": null,
   "metadata": {},
   "outputs": [],
   "source": []
  }
 ],
 "metadata": {
  "kernelspec": {
   "display_name": "Python 3",
   "language": "python",
   "name": "python3"
  },
  "language_info": {
   "codemirror_mode": {
    "name": "ipython",
    "version": 3
   },
   "file_extension": ".py",
   "mimetype": "text/x-python",
   "name": "python",
   "nbconvert_exporter": "python",
   "pygments_lexer": "ipython3",
   "version": "3.12.1"
  }
 },
 "nbformat": 4,
 "nbformat_minor": 2
}
